{
 "cells": [
  {
   "cell_type": "code",
   "execution_count": 1,
   "metadata": {
    "collapsed": false
   },
   "outputs": [
    {
     "data": {
      "text/plain": [
       "'\\nif boolean expression:\\n    statements in if blcok\\nelse:\\n    statements in else block\\n'"
      ]
     },
     "execution_count": 1,
     "metadata": {},
     "output_type": "execute_result"
    }
   ],
   "source": [
    "# if ifelse ifelseif\n",
    "\n",
    "'''\n",
    "if boolean expression:\n",
    "    statements in if blcok\n",
    "else:\n",
    "    statements in else block\n",
    "'''"
   ]
  },
  {
   "cell_type": "code",
   "execution_count": 3,
   "metadata": {
    "collapsed": false
   },
   "outputs": [
    {
     "name": "stdout",
     "output_type": "stream",
     "text": [
      "program started\n",
      "else block started\n",
      "10>20 is false\n",
      "else block ended\n",
      "other main block statements\n",
      "program ended\n"
     ]
    }
   ],
   "source": [
    "print \"program started\"\n",
    "if 10>20:\n",
    "    print \"if block started\"\n",
    "    print \"10>20 is true\"\n",
    "    print \"if block ended\"\n",
    "    \n",
    "else:\n",
    "    print \"else block started\"\n",
    "    print \"10>20 is false\"\n",
    "    print \"else block ended\"\n",
    "print \"other main block statements\"\n",
    "print \"program ended\""
   ]
  },
  {
   "cell_type": "code",
   "execution_count": 4,
   "metadata": {
    "collapsed": false
   },
   "outputs": [
    {
     "name": "stdout",
     "output_type": "stream",
     "text": [
      "program started\n",
      "if block started\n",
      "10<20 is true\n",
      "if block ended\n",
      "other main block statements\n",
      "program ended\n"
     ]
    }
   ],
   "source": [
    "print \"program started\"\n",
    "if 10<20:\n",
    "    print \"if block started\"\n",
    "    print \"10<20 is true\"\n",
    "    print \"if block ended\"\n",
    "    \n",
    "else:\n",
    "    print \"else block started\"\n",
    "    print \"10<20 is false\"\n",
    "    print \"else block ended\"\n",
    "print \"other main block statements\"\n",
    "print \"program ended\""
   ]
  },
  {
   "cell_type": "code",
   "execution_count": 6,
   "metadata": {
    "collapsed": false
   },
   "outputs": [
    {
     "name": "stdout",
     "output_type": "stream",
     "text": [
      "Enter a value:12\n",
      "given number 12.0 is an even\n"
     ]
    }
   ],
   "source": [
    "a=raw_input(\"Enter a value:\")\n",
    "a=float(a)\n",
    "if a%2==0:\n",
    "    print \"given number %s is an even\"%a\n",
    "else:\n",
    "    print \"given number %s is an odd\"%a"
   ]
  },
  {
   "cell_type": "code",
   "execution_count": 7,
   "metadata": {
    "collapsed": false
   },
   "outputs": [
    {
     "name": "stdout",
     "output_type": "stream",
     "text": [
      "Enter a value:13\n",
      "given number 13.0 is an odd\n"
     ]
    }
   ],
   "source": [
    "a=raw_input(\"Enter a value:\")\n",
    "a=float(a)\n",
    "if a%2==0:\n",
    "    print \"given number %s is an even\"%a\n",
    "else:\n",
    "    print \"given number %s is an odd\"%a"
   ]
  },
  {
   "cell_type": "code",
   "execution_count": null,
   "metadata": {
    "collapsed": true
   },
   "outputs": [],
   "source": [
    "'''\n",
    "1.MAC\n",
    "2.LINUX\n",
    "3.WINDOWS\n",
    "'''"
   ]
  }
 ],
 "metadata": {
  "kernelspec": {
   "display_name": "Python 2",
   "language": "python",
   "name": "python2"
  },
  "language_info": {
   "codemirror_mode": {
    "name": "ipython",
    "version": 2
   },
   "file_extension": ".py",
   "mimetype": "text/x-python",
   "name": "python",
   "nbconvert_exporter": "python",
   "pygments_lexer": "ipython2",
   "version": "2.7.11"
  }
 },
 "nbformat": 4,
 "nbformat_minor": 0
}
